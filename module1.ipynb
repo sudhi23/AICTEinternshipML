{
  "nbformat": 4,
  "nbformat_minor": 0,
  "metadata": {
    "colab": {
      "name": "module1.ipynb",
      "provenance": []
    },
    "kernelspec": {
      "name": "python3",
      "display_name": "Python 3"
    }
  },
  "cells": [
    {
      "cell_type": "markdown",
      "metadata": {
        "id": "p7OvVxS7CRFj",
        "colab_type": "text"
      },
      "source": [
        "**1.1** Import the csv file into a dataframe. Analyze and understand each column properly."
      ]
    },
    {
      "cell_type": "code",
      "metadata": {
        "id": "oG7Z1GdGbjJ4",
        "colab_type": "code",
        "colab": {
          "base_uri": "https://localhost:8080/",
          "height": 790
        },
        "outputId": "3d731a3f-d85e-4b1f-8631-af114d2e5afd"
      },
      "source": [
        "import pandas as pd   # import the library\n",
        "stock = pd.read_csv(\"data/GOOG.csv\")  # import the CSV file\n",
        "\n",
        "stock[stock.columns[1:-1]]=stock[stock.columns[1:-1]].replace('[,]','',regex=True)  #remove , from the string\n",
        "stock[stock.columns[1:-1]]=stock[stock.columns[1:-1]].astype(float)   # convert string to float\n",
        "print(stock.info())   # technical information about dataframe\n",
        "print('---------------------------------------------------------')\n",
        "print(stock.describe())   # quick overview of numerical datatypes\n",
        "print('-------------------------------------------------------------------')\n",
        "print(stock.head(7))  # first 7 rows\n",
        "print('---------------------------------------------------------------------')\n",
        "print(stock.tail(7))  # last 7 rows"
      ],
      "execution_count": 84,
      "outputs": [
        {
          "output_type": "stream",
          "text": [
            "<class 'pandas.core.frame.DataFrame'>\n",
            "RangeIndex: 503 entries, 0 to 502\n",
            "Data columns (total 6 columns):\n",
            " #   Column                 Non-Null Count  Dtype  \n",
            "---  ------                 --------------  -----  \n",
            " 0   Date                   503 non-null    object \n",
            " 1   Close Price            503 non-null    float64\n",
            " 2   Open Price             503 non-null    float64\n",
            " 3   High Price             503 non-null    float64\n",
            " 4   Low Price              503 non-null    float64\n",
            " 5   Total Traded Quantity  503 non-null    object \n",
            "dtypes: float64(4), object(2)\n",
            "memory usage: 23.7+ KB\n",
            "None\n",
            "---------------------------------------------------------\n",
            "       Close Price   Open Price   High Price    Low Price\n",
            "count   503.000000   503.000000   503.000000   503.000000\n",
            "mean   1132.038767  1131.834433  1142.713996  1120.766163\n",
            "std      70.086966    69.720548    68.474476    71.023314\n",
            "min     984.670000   984.320000   994.430000   977.660000\n",
            "25%    1073.645000  1073.960000  1084.985000  1062.375000\n",
            "50%    1128.630000  1130.000000  1139.300000  1116.790000\n",
            "75%    1189.915000  1188.000000  1199.090000  1174.925000\n",
            "max    1296.200000  1289.120000  1296.970000  1271.710000\n",
            "-------------------------------------------------------------------\n",
            "           Date  Close Price  ...  Low Price  Total Traded Quantity\n",
            "0  Oct 24, 2019      1259.11  ...    1252.35                  1.01M\n",
            "1  Oct 23, 2019      1257.63  ...    1240.21                  1.18M\n",
            "2  Oct 22, 2019      1241.20  ...    1239.85                  1.28M\n",
            "3  Oct 21, 2019      1244.28  ...    1239.99                  1.03M\n",
            "4  Oct 18, 2019      1244.41  ...    1240.14                  1.58M\n",
            "5  Oct 17, 2019      1252.80  ...    1249.87                  1.06M\n",
            "6  Oct 16, 2019      1243.00  ...    1238.53                  1.15M\n",
            "\n",
            "[7 rows x 6 columns]\n",
            "---------------------------------------------------------------------\n",
            "             Date  Close Price  ...  Low Price  Total Traded Quantity\n",
            "496  Nov 02, 2017      1042.97  ...    1028.66                  1.33M\n",
            "497  Nov 01, 2017      1042.60  ...    1034.00                  2.16M\n",
            "498  Oct 31, 2017      1033.04  ...    1026.30                  1.52M\n",
            "499  Oct 30, 2017      1033.13  ...    1022.33                  2.34M\n",
            "500  Oct 27, 2017      1033.67  ...    1026.85                  5.18M\n",
            "501  Oct 26, 2017       991.42  ...     990.47                  2.37M\n",
            "502  Oct 25, 2017       991.46  ...     977.72                  1.53M\n",
            "\n",
            "[7 rows x 6 columns]\n"
          ],
          "name": "stdout"
        }
      ]
    },
    {
      "cell_type": "markdown",
      "metadata": {
        "id": "WML8ODW5BiSF",
        "colab_type": "text"
      },
      "source": [
        "**1.2** Calculate the maximum, minimum and mean price for the last 90 days. (assuming it's 90 trading days)"
      ]
    },
    {
      "cell_type": "code",
      "metadata": {
        "id": "K3hkjBjc1VAk",
        "colab_type": "code",
        "colab": {
          "base_uri": "https://localhost:8080/",
          "height": 67
        },
        "outputId": "20df7072-06f2-4951-9131-f0ef934fda44"
      },
      "source": [
        "print(stock['Close Price'].head(90).max())  # head(90) gives us the data of last 90 trading days, and then max\n",
        "print(stock['Close Price'].head(90).min())  # min of last 90 trading days\n",
        "print(stock['Close Price'].head(90).mean()) # mean of last 90 trading days"
      ],
      "execution_count": 85,
      "outputs": [
        {
          "output_type": "stream",
          "text": [
            "1259.11\n",
            "1076.63\n",
            "1184.4741111111114\n"
          ],
          "name": "stdout"
        }
      ]
    },
    {
      "cell_type": "markdown",
      "metadata": {
        "id": "9aFr-j2tAuo4",
        "colab_type": "text"
      },
      "source": [
        "**1.3** Analyze data types of each column of dataframe. Convert object to **datetime64(ns)** format. And subtrac min from max of the **Date** column."
      ]
    },
    {
      "cell_type": "code",
      "metadata": {
        "id": "_wFH27xkImI9",
        "colab_type": "code",
        "colab": {
          "base_uri": "https://localhost:8080/",
          "height": 168
        },
        "outputId": "714ff44b-d9c4-4074-ca15-3dd6f918310b"
      },
      "source": [
        "stock['Date']=stock['Date'].astype('datetime64')   # convert string to datetime format\n",
        "print(stock.dtypes)   # print data types of the columns\n",
        "print('---------------------------------------')\n",
        "print(stock['Date'].max()-stock['Date'].min())  # max - min"
      ],
      "execution_count": 86,
      "outputs": [
        {
          "output_type": "stream",
          "text": [
            "Date                     datetime64[ns]\n",
            "Close Price                     float64\n",
            "Open Price                      float64\n",
            "High Price                      float64\n",
            "Low Price                       float64\n",
            "Total Traded Quantity            object\n",
            "dtype: object\n",
            "---------------------------------------\n",
            "729 days 00:00:00\n"
          ],
          "name": "stdout"
        }
      ]
    },
    {
      "cell_type": "markdown",
      "metadata": {
        "id": "6BkFPa5t9jJm",
        "colab_type": "text"
      },
      "source": [
        "**1.4** Calculate the monthwise VWAP (Volume Weighted Average Price) of the stock.<br>\n",
        "**VWAP = sum(price*volume)/sum(volume)**<br>\n",
        "We've created new columns **Month** and **Year** whose values are derived from the **Date** column. We've replaced **M** and **K** with  $10^{6}$ and $10^{3}$ respectively in the **Total Traded Quantity** column."
      ]
    },
    {
      "cell_type": "code",
      "metadata": {
        "id": "X6qKoqAlhCq1",
        "colab_type": "code",
        "colab": {
          "base_uri": "https://localhost:8080/",
          "height": 470
        },
        "outputId": "3bf27808-43d0-446a-e765-e24df001104f"
      },
      "source": [
        "stock['Month'] = stock['Date'].dt.month\n",
        "stock['Year'] = stock['Date'].dt.year\n",
        "stock['Total Traded Quantity'] = stock['Total Traded Quantity'].replace({'K':'*1e3','M':'*1e6'},regex=True).map(pd.eval) # replace M with 1e6 and K with 1e3\n",
        "stock['priceXvol'] = stock['Close Price']*stock['Total Traded Quantity']    # creating new column priceXvol for obtaining the sum(price*volume)\n",
        "priceXvolume = stock.groupby(['Year','Month'])['priceXvol'].sum()   # sum(price*volume)\n",
        "volume = stock.groupby(['Year','Month'])['Total Traded Quantity'].sum()   # sum(volume)\n",
        "vwap = priceXvolume/volume\n",
        "print(vwap)\n",
        "# kindly suggest an alternate solution if this is not the correct way of doing what was asked."
      ],
      "execution_count": 87,
      "outputs": [
        {
          "output_type": "stream",
          "text": [
            "Year  Month\n",
            "2017  10       1020.769304\n",
            "      11       1046.921972\n",
            "      12       1052.501461\n",
            "2018  1        1142.908136\n",
            "      2        1088.801496\n",
            "      3        1084.772690\n",
            "      4        1038.839267\n",
            "      5        1075.671110\n",
            "      6        1150.524716\n",
            "      7        1216.497232\n",
            "      8        1241.468195\n",
            "      9        1185.046656\n",
            "      10       1110.061882\n",
            "      11       1068.231777\n",
            "      12       1044.025517\n",
            "2019  1        1080.990612\n",
            "      2        1125.534145\n",
            "      3        1185.263631\n",
            "      4        1232.921930\n",
            "      5        1158.074381\n",
            "      6        1077.036357\n",
            "      7        1167.985066\n",
            "      8        1180.733742\n",
            "      9        1221.341273\n",
            "      10       1222.747092\n",
            "dtype: float64\n"
          ],
          "name": "stdout"
        }
      ]
    },
    {
      "cell_type": "markdown",
      "metadata": {
        "id": "K-MskolebyDj",
        "colab_type": "text"
      },
      "source": [
        "**1.5** Write a function to calculate the average price over last N days.<br>\n",
        "Write a function to calculate the profit/loss percentage over last N days.<br>\n",
        "Calculate it over the course of last :\n",
        "* 1 week\n",
        "* 2 weeks\n",
        "* 1 month\n",
        "* 3 months\n",
        "* 6 months\n",
        "* 1 year\n",
        "\n",
        "\n",
        "\n",
        "\n"
      ]
    },
    {
      "cell_type": "code",
      "metadata": {
        "id": "nqOQUXqii_7P",
        "colab_type": "code",
        "colab": {
          "base_uri": "https://localhost:8080/",
          "height": 118
        },
        "outputId": "0ca56179-8ef9-451c-efdc-0b189372ee43"
      },
      "source": [
        "def averagePrice(N):\n",
        "  return stock['Close Price'].head(N).mean()    # average price of last N trading days\n",
        "\n",
        "def profitLossPercent(N):\n",
        "  return (stock.iloc[0,1]-stock.iloc[N-1,1])%100    # profit loss percntage over last N trading days\n",
        "\n",
        "def calculate(N,option):\n",
        "  # error handling has not been taken care for the situation if the day was not a trading day, which could arise for option = 'day' or for date before that in csv file\n",
        "  today = stock.iloc[0,0]\n",
        "  m = today.month\n",
        "  y = today.year\n",
        "  d = today.day\n",
        "\n",
        "  if(option=='day' or option=='days'):\n",
        "    index = stock.index[stock['Date'] == today - pd.to_timedelta(N,unit='d')][0]\n",
        "\n",
        "  if(option=='week' or option=='weeks'):\n",
        "    index = stock.index[stock['Date'] == today - pd.to_timedelta(N,unit='w')][0]\n",
        "  \n",
        "  if(option=='month' or option=='months'):\n",
        "    mminus = N % 12\n",
        "    yminus = N // 12\n",
        "    index = stock.index[(stock['Month'] == m - mminus) & (stock['Date'].dt.day == d+1 ) & (stock['Year'] == y - yminus)][0]\n",
        "    \n",
        "  if(option=='year' or option=='years'):   #assuming that N is not greater than 2019\n",
        "    index = stock.index[(stock['Year'] == stock.iloc[0,0].year - N) & (stock['Date'].dt.day == d+1 ) & (stock['Month'] == m)][0]\n",
        "\n",
        "  average = stock.iloc[0:index,1].mean()\n",
        "  plpercent = ((stock.iloc[0,1] - stock.iloc[index,1])/stock.iloc[index,1])*100\n",
        "  print(\"For \",N,option,\",        Average :\",average,\",         Profit/Loss percent : \",plpercent,)\n",
        "\n",
        "calculate(1,'week')\n",
        "calculate(2,'weeks')\n",
        "calculate(1,'month')\n",
        "calculate(3,'months')\n",
        "calculate(6,'months')\n",
        "calculate(1,'year')\n",
        "  "
      ],
      "execution_count": 88,
      "outputs": [
        {
          "output_type": "stream",
          "text": [
            "For  1 week ,        Average : 1249.3259999999998 ,         Profit/Loss percent :  0.503671775223495\n",
            "For  2 weeks ,        Average : 1241.815 ,         Profit/Loss percent :  4.104277080043314\n",
            "For  1 month ,        Average : 1223.9090476190477 ,         Profit/Loss percent :  1.057033243976423\n",
            "For  3 months ,        Average : 1209.11671875 ,         Profit/Loss percent :  10.843002271246707\n",
            "For  6 months ,        Average : 1170.6182677165357 ,         Profit/Loss percent :  -0.6493916391812787\n",
            "For  1 year ,        Average : 1144.7866 ,         Profit/Loss percent :  14.092190034342464\n"
          ],
          "name": "stdout"
        }
      ]
    },
    {
      "cell_type": "markdown",
      "metadata": {
        "id": "BpJ5DDt4L5eQ",
        "colab_type": "text"
      },
      "source": [
        "**1.6** Add a column **Day_Perc_Change** where the values are daily change in percentages, the percentage change between two consecutive day's closing prices."
      ]
    },
    {
      "cell_type": "code",
      "metadata": {
        "id": "n3_B3aUDMc6i",
        "colab_type": "code",
        "colab": {}
      },
      "source": [
        "#since percentage change is calculated from previous day and the values in dataframe were in a reverse order, so adjusted it likewise\n",
        "#stock['Day_Perc_Change'] = stock['Close Price'].pct_change()\n",
        "\n",
        "stock['Day_Perc_Change'] = stock['Close Price'].pct_change(-1)\n",
        "stock.loc[502,'Day_Perc_Change'] = 0\n",
        "\n",
        "#print(stock.head())\n",
        "#print(stock.tail())"
      ],
      "execution_count": 0,
      "outputs": []
    },
    {
      "cell_type": "markdown",
      "metadata": {
        "id": "R2Mm20I_P5Iz",
        "colab_type": "text"
      },
      "source": [
        "**1.7** Add another column **Trend** based on **Day_Perc_Change**"
      ]
    },
    {
      "cell_type": "code",
      "metadata": {
        "id": "lbE5JyZ3QAsV",
        "colab_type": "code",
        "colab": {}
      },
      "source": [
        "stock.loc[(stock['Day_Perc_Change'] >= -0.5)&(stock['Day_Perc_Change'] < 0.5),'Trend'] = 'Slight or No change'\n",
        "stock.loc[(stock['Day_Perc_Change'] >= 0.5)&(stock['Day_Perc_Change'] < 1),'Trend'] = 'Slight positive'\n",
        "stock.loc[(stock['Day_Perc_Change'] >= -1)&(stock['Day_Perc_Change'] < -0.5),'Trend'] = 'Slight negative'\n",
        "stock.loc[(stock['Day_Perc_Change'] >= 1)&(stock['Day_Perc_Change'] < 3),'Trend'] = 'Positive'\n",
        "stock.loc[(stock['Day_Perc_Change'] >= -3)&(stock['Day_Perc_Change'] < -1),'Trend'] = 'Negative'\n",
        "stock.loc[(stock['Day_Perc_Change'] >= 3)&(stock['Day_Perc_Change'] < 7),'Trend'] = 'Among top gainers'\n",
        "stock.loc[(stock['Day_Perc_Change'] >= -7)&(stock['Day_Perc_Change'] < -3),'Trend'] = 'Among top losers'\n",
        "stock.loc[(stock['Day_Perc_Change'] >= 7),'Trend'] = 'Bull run'\n",
        "stock.loc[(stock['Day_Perc_Change'] < -7),'Trend'] = 'Bear drop'"
      ],
      "execution_count": 0,
      "outputs": []
    },
    {
      "cell_type": "markdown",
      "metadata": {
        "id": "aie48XsGXpBc",
        "colab_type": "text"
      },
      "source": [
        "**1.8** Find average and median values of column **Total Traded Quantity** for each types of **Trend**"
      ]
    },
    {
      "cell_type": "code",
      "metadata": {
        "id": "bKImsOlMX4WE",
        "colab_type": "code",
        "colab": {
          "base_uri": "https://localhost:8080/",
          "height": 168
        },
        "outputId": "e8fc298d-096a-4bf4-dbd2-3f085b3a6ee8"
      },
      "source": [
        "print('Average',stock.groupby('Trend')['Total Traded Quantity'].mean(),sep='\\n')\n",
        "print('-----------------------------------------')\n",
        "print('Median',stock.groupby('Trend')['Total Traded Quantity'].median(),sep='\\n')"
      ],
      "execution_count": 99,
      "outputs": [
        {
          "output_type": "stream",
          "text": [
            "Average\n",
            "Trend\n",
            "Slight or No change    1.795025e+06\n",
            "Name: Total Traded Quantity, dtype: float64\n",
            "-----------------------------------------\n",
            "Median\n",
            "Trend\n",
            "Slight or No change    1580000.0\n",
            "Name: Total Traded Quantity, dtype: float64\n"
          ],
          "name": "stdout"
        }
      ]
    },
    {
      "cell_type": "markdown",
      "metadata": {
        "id": "JUxYKnT1c2h-",
        "colab_type": "text"
      },
      "source": [
        "**1.9** Save the modified dataframe to csv file."
      ]
    },
    {
      "cell_type": "code",
      "metadata": {
        "id": "MZmJDwPhdCx5",
        "colab_type": "code",
        "colab": {}
      },
      "source": [
        "stock.to_csv(\"output/week2.csv\",index=False)"
      ],
      "execution_count": 0,
      "outputs": []
    }
  ]
}